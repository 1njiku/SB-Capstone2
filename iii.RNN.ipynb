{
 "cells": [
  {
   "cell_type": "code",
   "execution_count": 1,
   "metadata": {},
   "outputs": [],
   "source": [
    "from __future__ import print_function\n",
    "%matplotlib inline\n",
    "\n",
    "import datetime\n",
    "\n",
    "import os\n",
    "\n",
    "import pandas as pd\n",
    "pd.set_option('display.width', 500)\n",
    "pd.set_option('display.max_columns', 100)\n",
    "pd.set_option('display.notebook_repr_html', True)\n",
    "\n",
    "import matplotlib.pyplot as plt\n",
    "import numpy as np\n",
    "import seaborn as sns\n",
    "import pickle\n",
    "\n",
    "import tensorflow as tf\n",
    "from tensorflow.keras.preprocessing.text import Tokenizer\n",
    "from tensorflow.keras.optimizers import Adam\n",
    "from tensorflow.keras import layers\n",
    "from tensorflow.keras import losses\n",
    "from tensorflow.keras.preprocessing.sequence import pad_sequences\n",
    "from tensorflow.keras.callbacks import EarlyStopping\n",
    "from tensorflow.keras.regularizers import l2\n",
    "from tensorflow.keras import regularizers\n",
    "\n",
    "from sklearn.model_selection import train_test_split\n",
    "\n",
    "import re\n",
    "import string\n",
    "\n",
    "PROJ_ROOT = os.path.join(os.pardir, os.pardir)"
   ]
  },
  {
   "cell_type": "code",
   "execution_count": 2,
   "metadata": {},
   "outputs": [],
   "source": [
    "path = '/Users/teresiahkahura/Desktop/ds/SB-Capstone2/data/processed/reviews5.pkl'\n",
    "df = pd.read_pickle(path)\n",
    "\n",
    "assert df.shape == (3268, 2)"
   ]
  },
  {
   "cell_type": "markdown",
   "metadata": {},
   "source": [
    "# Preprocessing"
   ]
  },
  {
   "cell_type": "code",
   "execution_count": 3,
   "metadata": {},
   "outputs": [],
   "source": [
    "x = df[\"text\"]\n",
    "y = df[\"label\"].values"
   ]
  },
  {
   "cell_type": "code",
   "execution_count": 4,
   "metadata": {},
   "outputs": [],
   "source": [
    "tokenizer = Tokenizer(lower=True, filters='\\d*!\"#$%&()*+,-./:;<=>?@[\\\\]^_`{|}~\\t\\n', split = ' ')\n",
    "tokenizer.fit_on_texts(x)"
   ]
  },
  {
   "cell_type": "code",
   "execution_count": 5,
   "metadata": {},
   "outputs": [],
   "source": [
    "def get_sequence_of_tokens(corpus):\n",
    "    \n",
    "    \n",
    "    total_words = len(tokenizer.word_index) + 1\n",
    "    \n",
    "     \n",
    "    input_sequences = []\n",
    "    for line in corpus:\n",
    "        token_list = tokenizer.texts_to_sequences([line])[0]\n",
    "        input_sequences.append(token_list)\n",
    "    return input_sequences, total_words\n",
    "\n",
    "inp_sequences, total_words = get_sequence_of_tokens(x)"
   ]
  },
  {
   "cell_type": "code",
   "execution_count": 6,
   "metadata": {},
   "outputs": [],
   "source": [
    "def generate_padded_sequences(input_sequences):\n",
    "    max_sequence_len = max([len(x) for x in input_sequences])\n",
    "    input_sequences = np.array(pad_sequences(input_sequences, maxlen=max_sequence_len,))\n",
    "   \n",
    "    predictors = input_sequences[:,:-1]\n",
    "    return predictors, max_sequence_len\n",
    "\n",
    "predictors, max_sequence_len = generate_padded_sequences(inp_sequences)"
   ]
  },
  {
   "cell_type": "code",
   "execution_count": 11,
   "metadata": {},
   "outputs": [],
   "source": [
    "x_train, x_test, y_train, y_test = train_test_split(predictors, y, test_size=0.45, random_state=42)"
   ]
  },
  {
   "cell_type": "markdown",
   "metadata": {},
   "source": [
    "# Setting up RNN\n"
   ]
  },
  {
   "cell_type": "code",
   "execution_count": 17,
   "metadata": {},
   "outputs": [],
   "source": [
    "def build_model():\n",
    "  opt = Adam(lr=0.001)\n",
    "  model = tf.keras.Sequential()\n",
    "  model.add(tf.keras.layers.Embedding(total_words, 128))\n",
    "  model.add(tf.keras.layers.Bidirectional(tf.keras.layers.SimpleRNN(128)))\n",
    "  model.add(tf.keras.layers.Dropout(0.2))\n",
    "  model.add(tf.keras.layers.Dense(1, activation='sigmoid'))\n",
    "  model.compile(loss='binary_crossentropy', optimizer=opt, metrics=['accuracy'])\n",
    "  \n",
    "  return model\n",
    "\n",
    "rnn_model = build_model()"
   ]
  },
  {
   "cell_type": "code",
   "execution_count": 18,
   "metadata": {},
   "outputs": [],
   "source": [
    "!rm -r /tmp/logs/"
   ]
  },
  {
   "cell_type": "code",
   "execution_count": 19,
   "metadata": {},
   "outputs": [],
   "source": [
    "logdir = os.path.join(\"/tmp/logs\", datetime.datetime.now().strftime(\"%Y%m%d-%H%M%S\"))\n",
    "tb_callback = tf.keras.callbacks.TensorBoard(logdir, histogram_freq=1)\n",
    "checkpoint = tf.keras.callbacks.ModelCheckpoint(filepath='/tmp/sentiment_analysis_rnn.hdf5', \n",
    "                                                  verbose = 1, \n",
    "                                                  save_best_only= True)"
   ]
  },
  {
   "cell_type": "code",
   "execution_count": 20,
   "metadata": {},
   "outputs": [
    {
     "name": "stdout",
     "output_type": "stream",
     "text": [
      "Epoch 1/10\n",
      " 2/51 [>.............................] - ETA: 9s - loss: 0.7126 - accuracy: 0.4844WARNING:tensorflow:Callbacks method `on_train_batch_end` is slow compared to the batch time (batch time: 0.1181s vs `on_train_batch_end` time: 0.2839s). Check your callbacks.\n",
      "51/51 [==============================] - ETA: 0s - loss: 0.7062 - accuracy: 0.5139\n",
      "Epoch 00001: val_loss improved from inf to 0.70234, saving model to /tmp/sentiment_analysis_rnn.hdf5\n",
      "51/51 [==============================] - 6s 119ms/step - loss: 0.7062 - accuracy: 0.5139 - val_loss: 0.7023 - val_accuracy: 0.4611\n",
      "Epoch 2/10\n",
      "51/51 [==============================] - ETA: 0s - loss: 0.6829 - accuracy: 0.5720\n",
      "Epoch 00002: val_loss improved from 0.70234 to 0.68678, saving model to /tmp/sentiment_analysis_rnn.hdf5\n",
      "51/51 [==============================] - 6s 108ms/step - loss: 0.6829 - accuracy: 0.5720 - val_loss: 0.6868 - val_accuracy: 0.5833\n",
      "Epoch 3/10\n",
      "51/51 [==============================] - ETA: 0s - loss: 0.5560 - accuracy: 0.7229\n",
      "Epoch 00003: val_loss improved from 0.68678 to 0.59031, saving model to /tmp/sentiment_analysis_rnn.hdf5\n",
      "51/51 [==============================] - 6s 108ms/step - loss: 0.5560 - accuracy: 0.7229 - val_loss: 0.5903 - val_accuracy: 0.6778\n",
      "Epoch 4/10\n",
      "51/51 [==============================] - ETA: 0s - loss: 0.3278 - accuracy: 0.8707\n",
      "Epoch 00004: val_loss improved from 0.59031 to 0.48409, saving model to /tmp/sentiment_analysis_rnn.hdf5\n",
      "51/51 [==============================] - 6s 110ms/step - loss: 0.3278 - accuracy: 0.8707 - val_loss: 0.4841 - val_accuracy: 0.7778\n",
      "Epoch 5/10\n",
      "51/51 [==============================] - ETA: 0s - loss: 0.2786 - accuracy: 0.8992\n",
      "Epoch 00005: val_loss did not improve from 0.48409\n",
      "51/51 [==============================] - 5s 107ms/step - loss: 0.2786 - accuracy: 0.8992 - val_loss: 0.5873 - val_accuracy: 0.7778\n",
      "Epoch 6/10\n",
      "51/51 [==============================] - ETA: 0s - loss: 0.1446 - accuracy: 0.9555\n",
      "Epoch 00006: val_loss did not improve from 0.48409\n",
      "51/51 [==============================] - 5s 107ms/step - loss: 0.1446 - accuracy: 0.9555 - val_loss: 0.7430 - val_accuracy: 0.7389\n",
      "Epoch 7/10\n",
      "51/51 [==============================] - ETA: 0s - loss: 0.0918 - accuracy: 0.9734\n",
      "Epoch 00007: val_loss did not improve from 0.48409\n",
      "51/51 [==============================] - 6s 109ms/step - loss: 0.0918 - accuracy: 0.9734 - val_loss: 0.9753 - val_accuracy: 0.6722\n",
      "Epoch 8/10\n",
      "51/51 [==============================] - ETA: 0s - loss: 0.0548 - accuracy: 0.9882\n",
      "Epoch 00008: val_loss did not improve from 0.48409\n",
      "51/51 [==============================] - 5s 107ms/step - loss: 0.0548 - accuracy: 0.9882 - val_loss: 0.9706 - val_accuracy: 0.6889\n",
      "Epoch 9/10\n",
      "51/51 [==============================] - ETA: 0s - loss: 0.0378 - accuracy: 0.9901\n",
      "Epoch 00009: val_loss did not improve from 0.48409\n",
      "51/51 [==============================] - 5s 107ms/step - loss: 0.0378 - accuracy: 0.9901 - val_loss: 1.0870 - val_accuracy: 0.7278\n",
      "Epoch 10/10\n",
      "51/51 [==============================] - ETA: 0s - loss: 0.1029 - accuracy: 0.9647\n",
      "Epoch 00010: val_loss did not improve from 0.48409\n",
      "51/51 [==============================] - 6s 108ms/step - loss: 0.1029 - accuracy: 0.9647 - val_loss: 1.0274 - val_accuracy: 0.7000\n"
     ]
    }
   ],
   "source": [
    "es = EarlyStopping(monitor='val_loss', mode='min', patience=5)\n",
    "history_rnn = rnn_model.fit(x_train, y_train, epochs = 10, validation_split=0.1, \n",
    "                              callbacks = [tb_callback, checkpoint])"
   ]
  },
  {
   "cell_type": "code",
   "execution_count": 21,
   "metadata": {},
   "outputs": [
    {
     "data": {
      "image/png": "[encoded data removed]",
      "text/plain": [
       "<Figure size 432x288 with 1 Axes>"
      ]
     },
     "metadata": {
      "needs_background": "light"
     },
     "output_type": "display_data"
    }
   ],
   "source": [
    "def plot_graphs(history, metric):\n",
    "  plt.plot(history.history[metric])\n",
    "  plt.plot(history.history['val_'+ metric], '')\n",
    "  plt.xlabel(\"Epochs\")\n",
    "  plt.ylabel(metric)\n",
    "  plt.legend([metric, 'val_'+ metric])\n",
    "  plt.show()\n",
    "\n",
    "plot_graphs(history_rnn, 'accuracy')"
   ]
  },
  {
   "cell_type": "code",
   "execution_count": 22,
   "metadata": {},
   "outputs": [
    {
     "data": {
      "image/png": "[encoded data removed]",
      "text/plain": [
       "<Figure size 432x288 with 1 Axes>"
      ]
     },
     "metadata": {
      "needs_background": "light"
     },
     "output_type": "display_data"
    }
   ],
   "source": [
    "plot_graphs(history_rnn, 'loss')"
   ]
  },
  {
   "cell_type": "code",
   "execution_count": 23,
   "metadata": {},
   "outputs": [
    {
     "name": "stdout",
     "output_type": "stream",
     "text": [
      "46/46 [==============================] - 1s 21ms/step - loss: 0.8889 - accuracy: 0.7376\n",
      "[0.8888649940490723, 0.7375934720039368]\n"
     ]
    }
   ],
   "source": [
    "results = rnn_model.evaluate(x_test, y_test)\n",
    "print(results)"
   ]
  }
 ],
 "metadata": {
  "kernelspec": {
   "display_name": "Python 3",
   "language": "python",
   "name": "python3"
  },
  "language_info": {
   "codemirror_mode": {
    "name": "ipython",
    "version": 3
   },
   "file_extension": ".py",
   "mimetype": "text/x-python",
   "name": "python",
   "nbconvert_exporter": "python",
   "pygments_lexer": "ipython3",
   "version": "3.7.3"
  }
 },
 "nbformat": 4,
 "nbformat_minor": 4
}
