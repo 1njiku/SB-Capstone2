{
 "cells": [
  {
   "cell_type": "code",
   "execution_count": 1,
   "metadata": {},
   "outputs": [],
   "source": [
    "from __future__ import print_function\n",
    "%matplotlib inline\n",
    "\n",
    "import datetime\n",
    "\n",
    "import os\n",
    "\n",
    "import pandas as pd\n",
    "pd.set_option('display.width', 500)\n",
    "pd.set_option('display.max_columns', 100)\n",
    "pd.set_option('display.notebook_repr_html', True)\n",
    "\n",
    "import matplotlib.pyplot as plt\n",
    "import numpy as np\n",
    "import seaborn as sns\n",
    "import pickle\n",
    "\n",
    "import tensorflow as tf\n",
    "from tensorflow.keras.preprocessing.text import Tokenizer\n",
    "from tensorflow.keras.optimizers import Adam\n",
    "from tensorflow.keras import layers\n",
    "from tensorflow.keras import losses\n",
    "from tensorflow.keras.preprocessing.sequence import pad_sequences\n",
    "from tensorflow.keras.callbacks import EarlyStopping\n",
    "from tensorflow.keras.regularizers import l2\n",
    "from tensorflow.keras import regularizers\n",
    "\n",
    "from sklearn.model_selection import train_test_split\n",
    "\n",
    "import re\n",
    "import string\n",
    "\n",
    "PROJ_ROOT = os.path.join(os.pardir, os.pardir)"
   ]
  },
  {
   "cell_type": "code",
   "execution_count": 2,
   "metadata": {},
   "outputs": [],
   "source": [
    "path = '/Users/teresiahkahura/Desktop/ds/SB-Capstone2/data/processed/reviews5.pkl'\n",
    "df = pd.read_pickle(path)\n",
    "\n",
    "assert df.shape == (3268, 2)"
   ]
  },
  {
   "cell_type": "markdown",
   "metadata": {},
   "source": [
    "# Preprocessing"
   ]
  },
  {
   "cell_type": "code",
   "execution_count": 3,
   "metadata": {},
   "outputs": [],
   "source": [
    "x = df[\"text\"]\n",
    "y = df[\"label\"].values"
   ]
  },
  {
   "cell_type": "code",
   "execution_count": 4,
   "metadata": {},
   "outputs": [],
   "source": [
    "tokenizer = Tokenizer(lower=True, filters='\\d*!\"#$%&()*+,-./:;<=>?@[\\\\]^_`{|}~\\t\\n', split = ' ')\n",
    "tokenizer.fit_on_texts(x)"
   ]
  },
  {
   "cell_type": "code",
   "execution_count": 5,
   "metadata": {},
   "outputs": [],
   "source": [
    "def get_sequence_of_tokens(corpus):\n",
    "    \n",
    "    \n",
    "    total_words = len(tokenizer.word_index) + 1\n",
    "    \n",
    "     \n",
    "    input_sequences = []\n",
    "    for line in corpus:\n",
    "        token_list = tokenizer.texts_to_sequences([line])[0]\n",
    "        input_sequences.append(token_list)\n",
    "    return input_sequences, total_words\n",
    "\n",
    "inp_sequences, total_words = get_sequence_of_tokens(x)"
   ]
  },
  {
   "cell_type": "code",
   "execution_count": 6,
   "metadata": {},
   "outputs": [],
   "source": [
    "def generate_padded_sequences(input_sequences):\n",
    "    max_sequence_len = max([len(x) for x in input_sequences])\n",
    "    input_sequences = np.array(pad_sequences(input_sequences, maxlen=max_sequence_len,))\n",
    "   \n",
    "    predictors = input_sequences[:,:-1]\n",
    "    return predictors, max_sequence_len\n",
    "\n",
    "predictors, max_sequence_len = generate_padded_sequences(inp_sequences)"
   ]
  },
  {
   "cell_type": "code",
   "execution_count": 7,
   "metadata": {},
   "outputs": [],
   "source": [
    "x_train, x_test, y_train, y_test = train_test_split(predictors, y, test_size=0.5, random_state=42)"
   ]
  },
  {
   "cell_type": "markdown",
   "metadata": {},
   "source": [
    "# Setting up LSTM\n"
   ]
  },
  {
   "cell_type": "code",
   "execution_count": 8,
   "metadata": {},
   "outputs": [],
   "source": [
    "def build_model():\n",
    "  opt = Adam(lr=0.001)\n",
    "\n",
    "  model = tf.keras.Sequential()\n",
    "  model.add(tf.keras.layers.Embedding(total_words, 128))\n",
    "  model.add(tf.keras.layers.Bidirectional(tf.keras.layers.LSTM(128, dropout=0.7, recurrent_dropout=0.7, return_sequences=True)))\n",
    "  model.add(tf.keras.layers.Bidirectional(tf.keras.layers.LSTM(64)))\n",
    "  model.add(tf.keras.layers.Dense(6, kernel_regularizer = regularizers.l1_l2(l1=0.01, l2=0.01)))\n",
    "  model.add(tf.keras.layers.Dropout(0.2))\n",
    "  model.add(tf.keras.layers.Dense(1, activation='sigmoid'))\n",
    "    \n",
    "  model.compile(loss='binary_crossentropy', optimizer=opt, metrics=['accuracy'])\n",
    "  return model\n",
    "\n",
    "lstm_model = build_model()"
   ]
  },
  {
   "cell_type": "code",
   "execution_count": 9,
   "metadata": {},
   "outputs": [],
   "source": [
    "!rm -r /tmp/logs/"
   ]
  },
  {
   "cell_type": "code",
   "execution_count": 10,
   "metadata": {},
   "outputs": [],
   "source": [
    "logdir = os.path.join(\"/tmp/logs\", datetime.datetime.now().strftime(\"%Y%m%d-%H%M%S\"))\n",
    "tb_callback = tf.keras.callbacks.TensorBoard(logdir, histogram_freq=1)\n",
    "checkpoint = tf.keras.callbacks.ModelCheckpoint(filepath='/tmp/sentiment_analysis.hdf5', \n",
    "                                                  verbose = 1, \n",
    "                                                  save_best_only= True)"
   ]
  },
  {
   "cell_type": "markdown",
   "metadata": {},
   "source": [
    "Fitting the model takes approximately 5 minutes."
   ]
  },
  {
   "cell_type": "code",
   "execution_count": 11,
   "metadata": {},
   "outputs": [
    {
     "name": "stdout",
     "output_type": "stream",
     "text": [
      "Epoch 1/5\n",
      " 1/46 [..............................] - ETA: 0s - loss: 1.6643 - accuracy: 0.5625WARNING:tensorflow:From /Library/Frameworks/Python.framework/Versions/3.7/lib/python3.7/site-packages/tensorflow/python/ops/summary_ops_v2.py:1277: stop (from tensorflow.python.eager.profiler) is deprecated and will be removed after 2020-07-01.\n",
      "Instructions for updating:\n",
      "use `tf.profiler.experimental.stop` instead.\n",
      "46/46 [==============================] - ETA: 0s - loss: 1.4697 - accuracy: 0.5150\n",
      "Epoch 00001: val_loss improved from inf to 1.27756, saving model to /tmp/sentiment_analysis.hdf5\n",
      "46/46 [==============================] - 44s 957ms/step - loss: 1.4697 - accuracy: 0.5150 - val_loss: 1.2776 - val_accuracy: 0.4756\n",
      "Epoch 2/5\n",
      "46/46 [==============================] - ETA: 0s - loss: 0.9864 - accuracy: 0.7456\n",
      "Epoch 00002: val_loss improved from 1.27756 to 0.85107, saving model to /tmp/sentiment_analysis.hdf5\n",
      "46/46 [==============================] - 42s 903ms/step - loss: 0.9864 - accuracy: 0.7456 - val_loss: 0.8511 - val_accuracy: 0.7439\n",
      "Epoch 3/5\n",
      "46/46 [==============================] - ETA: 0s - loss: 0.5935 - accuracy: 0.8680\n",
      "Epoch 00003: val_loss improved from 0.85107 to 0.65627, saving model to /tmp/sentiment_analysis.hdf5\n",
      "46/46 [==============================] - 42s 902ms/step - loss: 0.5935 - accuracy: 0.8680 - val_loss: 0.6563 - val_accuracy: 0.7927\n",
      "Epoch 4/5\n",
      "46/46 [==============================] - ETA: 0s - loss: 0.3363 - accuracy: 0.9401\n",
      "Epoch 00004: val_loss did not improve from 0.65627\n",
      "46/46 [==============================] - 41s 890ms/step - loss: 0.3363 - accuracy: 0.9401 - val_loss: 0.6893 - val_accuracy: 0.7134\n",
      "Epoch 5/5\n",
      "46/46 [==============================] - ETA: 0s - loss: 0.2461 - accuracy: 0.9544\n",
      "Epoch 00005: val_loss did not improve from 0.65627\n",
      "46/46 [==============================] - 41s 901ms/step - loss: 0.2461 - accuracy: 0.9544 - val_loss: 1.0984 - val_accuracy: 0.6890\n"
     ]
    }
   ],
   "source": [
    "es = EarlyStopping(monitor='val_loss', mode='min', patience=5)\n",
    "history_lstm = lstm_model.fit(x_train, y_train, epochs = 5, validation_split = 0.1, \n",
    "                              callbacks = [tb_callback, checkpoint])"
   ]
  },
  {
   "cell_type": "code",
   "execution_count": 12,
   "metadata": {},
   "outputs": [
    {
     "data": {
      "image/png": "[encoded data removed]",
      "text/plain": [
       "<Figure size 432x288 with 1 Axes>"
      ]
     },
     "metadata": {
      "needs_background": "light"
     },
     "output_type": "display_data"
    }
   ],
   "source": [
    "def plot_graphs(history, metric):\n",
    "  plt.plot(history.history[metric])\n",
    "  plt.plot(history.history['val_'+ metric], '')\n",
    "  plt.xlabel(\"Epochs\")\n",
    "  plt.ylabel(metric)\n",
    "  plt.legend([metric, 'val_'+ metric])\n",
    "  plt.show()\n",
    "\n",
    "plot_graphs(history_lstm, 'accuracy')"
   ]
  },
  {
   "cell_type": "code",
   "execution_count": 13,
   "metadata": {},
   "outputs": [
    {
     "data": {
      "image/png": "[encoded data removed]",
      "text/plain": [
       "<Figure size 432x288 with 1 Axes>"
      ]
     },
     "metadata": {
      "needs_background": "light"
     },
     "output_type": "display_data"
    }
   ],
   "source": [
    "plot_graphs(history_lstm, 'loss')"
   ]
  },
  {
   "cell_type": "code",
   "execution_count": 14,
   "metadata": {},
   "outputs": [
    {
     "name": "stdout",
     "output_type": "stream",
     "text": [
      "52/52 [==============================] - 7s 142ms/step - loss: 0.9041 - accuracy: 0.7460\n",
      "[0.904063880443573, 0.7460220456123352]\n"
     ]
    }
   ],
   "source": [
    "results = lstm_model.evaluate(x_test, y_test)\n",
    "print(results)"
   ]
  }
 ],
 "metadata": {
  "kernelspec": {
   "display_name": "Python 3",
   "language": "python",
   "name": "python3"
  },
  "language_info": {
   "codemirror_mode": {
    "name": "ipython",
    "version": 3
   },
   "file_extension": ".py",
   "mimetype": "text/x-python",
   "name": "python",
   "nbconvert_exporter": "python",
   "pygments_lexer": "ipython3",
   "version": "3.7.3"
  }
 },
 "nbformat": 4,
 "nbformat_minor": 4
}
