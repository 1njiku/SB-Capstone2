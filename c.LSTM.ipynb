{
 "cells": [
  {
   "cell_type": "markdown",
   "metadata": {},
   "source": [
    "# Problem Statement"
   ]
  },
  {
   "cell_type": "markdown",
   "metadata": {},
   "source": [
    "Much work on sentiment analysis has been done on short-form text data such as those derived from micro-blogging social media sites. Because of the succinct nature of these social media posts, it is perhaps easier to glean points of view than from longer pieces of text.\n",
    "I would therefore like to perform sentiment parsing of long-form text in the form of book reviews. \n"
   ]
  },
  {
   "cell_type": "markdown",
   "metadata": {},
   "source": [
    "I will use book reviews scraped from various websites including Goodreads stored on Kaggle as CSV files. The goal is to use different machine learning models to parse sentiment (either positive or negative) from each review. For this supervised classification problem, I will compare the performance of a Long Short Term Memory neural network (in this notebook) and Recurrent Neural Network (notebook d.) to a Naive Bayes model (notebook b.)"
   ]
  },
  {
   "cell_type": "code",
   "execution_count": 1,
   "metadata": {},
   "outputs": [],
   "source": [
    "from __future__ import print_function\n",
    "%matplotlib inline\n",
    "\n",
    "import datetime\n",
    "\n",
    "import os\n",
    "\n",
    "import pandas as pd\n",
    "pd.set_option('display.width', 500)\n",
    "pd.set_option('display.max_columns', 100)\n",
    "pd.set_option('display.notebook_repr_html', True)\n",
    "\n",
    "import matplotlib.pyplot as plt\n",
    "import numpy as np\n",
    "import seaborn as sns\n",
    "import pickle\n",
    "\n",
    "import spacy\n",
    "import en_core_web_sm\n",
    "\n",
    "import tensorflow as tf\n",
    "from tensorflow.keras.preprocessing.text import Tokenizer\n",
    "from tensorflow.keras.optimizers import Adam\n",
    "from tensorflow.keras import layers\n",
    "from tensorflow.keras import losses\n",
    "from tensorflow.keras.preprocessing.sequence import pad_sequences\n",
    "from tensorflow.keras.callbacks import EarlyStopping\n",
    "from tensorflow.keras.regularizers import l2\n",
    "from tensorflow.keras import regularizers\n",
    "\n",
    "from sklearn.model_selection import train_test_split\n",
    "\n",
    "import re\n",
    "import string\n",
    "\n",
    "PROJ_ROOT = os.path.join(os.pardir, os.pardir)"
   ]
  },
  {
   "cell_type": "code",
   "execution_count": 2,
   "metadata": {},
   "outputs": [],
   "source": [
    "path = '/Users/teresiahkahura/Desktop/ds/SB-Capstone2/data/processed/reviews5.pkl'\n",
    "df = pd.read_pickle(path)\n",
    "\n",
    "assert df.shape == (3268, 2)"
   ]
  },
  {
   "cell_type": "markdown",
   "metadata": {},
   "source": [
    "# Preprocessing"
   ]
  },
  {
   "cell_type": "markdown",
   "metadata": {},
   "source": [
    "I used a different suite of preprocessing tools from the Naive Bayes model in order to familiarize myself with TensorFlow implementation. Apart from using spaCy to lemmatize the text, I used Tensorflow's text tokenizer in this case instead of Count Vectorizer used in running the Naive Bayes Model."
   ]
  },
  {
   "cell_type": "code",
   "execution_count": 3,
   "metadata": {},
   "outputs": [],
   "source": [
    "# Using spacy to tokenize and lemmatize not including pronouns\n",
    "nlp = en_core_web_sm.load()\n",
    "\n",
    "def lemmatize_text(text):\n",
    "    \"\"\"Takes a corpus of text and tokenizes it in addition to lemmatizing\n",
    "    \n",
    "    \"\"\"\n",
    "    text = nlp(text)\n",
    "    text = ' '.join([word.lemma_ if word.lemma_ != '-PRON-' else word.text for word in text])\n",
    "    return text"
   ]
  },
  {
   "cell_type": "code",
   "execution_count": 4,
   "metadata": {},
   "outputs": [],
   "source": [
    "df['text'] = [lemmatize_text(sent) for sent in df['text']]"
   ]
  },
  {
   "cell_type": "code",
   "execution_count": 5,
   "metadata": {},
   "outputs": [],
   "source": [
    "#converting the label column to an array in preparation to feed into neural network\n",
    "x = df[\"text\"]\n",
    "y = df[\"label\"].values"
   ]
  },
  {
   "cell_type": "code",
   "execution_count": 6,
   "metadata": {},
   "outputs": [],
   "source": [
    "#using Tensorflow's tokenizer to filter out special characters and digits\n",
    "tokenizer = Tokenizer(lower=True, filters='\\d*!\"#$%&()*+,-./:;<=>?@[\\\\]^_`{|}~\\t\\n', split = ' ')\n",
    "tokenizer.fit_on_texts(x)"
   ]
  },
  {
   "cell_type": "code",
   "execution_count": 7,
   "metadata": {},
   "outputs": [],
   "source": [
    "def get_sequence_of_tokens(corpus):\n",
    "    \"\"\"\n",
    "    Takes a corpus of text as argument and returns its input size which will be used in creating the \n",
    "    neural network first layer.\n",
    "    Also returns a vector representation of the text. \n",
    "    \"\"\"\n",
    "    #getting the input size to encode in the neural networks first layer\n",
    "    total_words = len(tokenizer.word_index) + 1\n",
    "    \n",
    "    #converts texts into vector space \n",
    "    input_sequences = []\n",
    "    for line in corpus:\n",
    "        token_list = tokenizer.texts_to_sequences([line])[0]\n",
    "        input_sequences.append(token_list)\n",
    "    return input_sequences, total_words\n",
    "\n",
    "inp_sequences, total_words = get_sequence_of_tokens(x)"
   ]
  },
  {
   "cell_type": "code",
   "execution_count": 8,
   "metadata": {},
   "outputs": [],
   "source": [
    "def generate_padded_sequences(input_sequences):\n",
    "    \"\"\"\n",
    "    Takes vectorized representation of text as argument and pads sequences that are smaller \n",
    "    to the size of the longest sequence length. \n",
    "    \"\"\"\n",
    "    max_sequence_len = max([len(x) for x in input_sequences])\n",
    "    input_sequences = np.array(pad_sequences(input_sequences, maxlen=max_sequence_len,))\n",
    "   \n",
    "    predictors = input_sequences[:,:-1]\n",
    "    return predictors, max_sequence_len\n",
    "\n",
    "predictors, max_sequence_len = generate_padded_sequences(inp_sequences)"
   ]
  },
  {
   "cell_type": "code",
   "execution_count": 9,
   "metadata": {},
   "outputs": [],
   "source": [
    "# splits the vectorized representations of text and labels into test and training sizes\n",
    "x_train, x_test, y_train, y_test = train_test_split(predictors, y, test_size=0.5, random_state=42)"
   ]
  },
  {
   "cell_type": "markdown",
   "metadata": {},
   "source": [
    "The model performed best with an even split between the test and train sets perhaps due to the small size of the dataset. "
   ]
  },
  {
   "cell_type": "markdown",
   "metadata": {},
   "source": [
    "# Setting up LSTM\n"
   ]
  },
  {
   "cell_type": "code",
   "execution_count": 17,
   "metadata": {},
   "outputs": [],
   "source": [
    "def build_model():\n",
    "    \"\"\"\n",
    "    Builds layers of neural network.\n",
    "    \"\"\"\n",
    "    opt = Adam(lr=0.001)\n",
    "    model = tf.keras.Sequential()\n",
    "    #establishes first embedding layer with the shape of the total_words variable and a batch size of 64\n",
    "    model.add(tf.keras.layers.Embedding(total_words, 64))\n",
    "    #The subsequent layers are bidirectional learning LSTM neural networks\n",
    "    model.add(tf.keras.layers.Bidirectional(tf.keras.layers.LSTM(64, dropout=0.7, recurrent_dropout=0.7, return_sequences=True)))\n",
    "    model.add(tf.keras.layers.Bidirectional(tf.keras.layers.LSTM(32)))\n",
    "    #Added regularization to minimize the effect of high dimensions sometimes present in sparse matrix data\n",
    "    model.add(tf.keras.layers.Dense(6, kernel_regularizer = regularizers.l1_l2(l1=0.01, l2=0.01)))\n",
    "    model.add(tf.keras.layers.Dropout(0.2))\n",
    "    #The last layer has sigmoid activation function to convert predictions to 0 - 1 format \n",
    "    model.add(tf.keras.layers.Dense(1, activation='sigmoid'))\n",
    "    \n",
    "    #Added loss function optimized for binary labels\n",
    "    model.compile(loss='binary_crossentropy', optimizer=opt, metrics=['accuracy', tf.keras.metrics.AUC()])\n",
    "    \n",
    "    return model\n",
    "\n",
    "lstm_model = build_model()"
   ]
  },
  {
   "cell_type": "code",
   "execution_count": 18,
   "metadata": {},
   "outputs": [],
   "source": [
    "#removes previous logs \n",
    "!rm -r /tmp/logs/"
   ]
  },
  {
   "cell_type": "code",
   "execution_count": 19,
   "metadata": {},
   "outputs": [],
   "source": [
    "#saves the best performing model onto disk\n",
    "logdir = os.path.join(\"/tmp/logs\", datetime.datetime.now().strftime(\"%Y%m%d-%H%M%S\"))\n",
    "tb_callback = tf.keras.callbacks.TensorBoard(logdir, histogram_freq=1)\n",
    "checkpoint = tf.keras.callbacks.ModelCheckpoint(filepath='/tmp/sentiment_analysis.hdf5', \n",
    "                                                  verbose = 1, \n",
    "                                                  save_best_only= True)"
   ]
  },
  {
   "cell_type": "markdown",
   "metadata": {},
   "source": [
    "Fitting the model takes approximately 5 minutes on the local machine."
   ]
  },
  {
   "cell_type": "code",
   "execution_count": 20,
   "metadata": {},
   "outputs": [
    {
     "name": "stdout",
     "output_type": "stream",
     "text": [
      "Epoch 1/5\n",
      " 2/46 [>.............................] - ETA: 45s - loss: 1.3493 - accuracy: 0.5781 - auc: 0.5233WARNING:tensorflow:Callbacks method `on_train_batch_end` is slow compared to the batch time (batch time: 0.5669s vs `on_train_batch_end` time: 1.4932s). Check your callbacks.\n",
      "46/46 [==============================] - ETA: 0s - loss: 1.2506 - accuracy: 0.5054 - auc: 0.5178\n",
      "Epoch 00001: val_loss improved from inf to 1.13976, saving model to /tmp/sentiment_analysis.hdf5\n",
      "46/46 [==============================] - 24s 513ms/step - loss: 1.2506 - accuracy: 0.5054 - auc: 0.5178 - val_loss: 1.1398 - val_accuracy: 0.6159 - val_auc: 0.7329\n",
      "Epoch 2/5\n",
      "46/46 [==============================] - ETA: 0s - loss: 0.9459 - accuracy: 0.7259 - auc: 0.7912\n",
      "Epoch 00002: val_loss improved from 1.13976 to 0.83769, saving model to /tmp/sentiment_analysis.hdf5\n",
      "46/46 [==============================] - 22s 474ms/step - loss: 0.9459 - accuracy: 0.7259 - auc: 0.7912 - val_loss: 0.8377 - val_accuracy: 0.7622 - val_auc: 0.8253\n",
      "Epoch 3/5\n",
      "46/46 [==============================] - ETA: 0s - loss: 0.6277 - accuracy: 0.8599 - auc: 0.9216\n",
      "Epoch 00003: val_loss improved from 0.83769 to 0.73813, saving model to /tmp/sentiment_analysis.hdf5\n",
      "46/46 [==============================] - 25s 553ms/step - loss: 0.6277 - accuracy: 0.8599 - auc: 0.9216 - val_loss: 0.7381 - val_accuracy: 0.7561 - val_auc: 0.8453\n",
      "Epoch 4/5\n",
      "46/46 [==============================] - ETA: 0s - loss: 0.4476 - accuracy: 0.9170 - auc: 0.9576\n",
      "Epoch 00004: val_loss improved from 0.73813 to 0.66791, saving model to /tmp/sentiment_analysis.hdf5\n",
      "46/46 [==============================] - 24s 531ms/step - loss: 0.4476 - accuracy: 0.9170 - auc: 0.9576 - val_loss: 0.6679 - val_accuracy: 0.7683 - val_auc: 0.8586\n",
      "Epoch 5/5\n",
      "46/46 [==============================] - ETA: 0s - loss: 0.2980 - accuracy: 0.9592 - auc: 0.9826\n",
      "Epoch 00005: val_loss improved from 0.66791 to 0.63849, saving model to /tmp/sentiment_analysis.hdf5\n",
      "46/46 [==============================] - 22s 479ms/step - loss: 0.2980 - accuracy: 0.9592 - auc: 0.9826 - val_loss: 0.6385 - val_accuracy: 0.7622 - val_auc: 0.8647\n"
     ]
    }
   ],
   "source": [
    "es = EarlyStopping(monitor='val_loss', mode='min', patience=5)\n",
    "history_lstm = lstm_model.fit(x_train, y_train, epochs = 5, validation_split = 0.1, \n",
    "                              callbacks = [tb_callback, checkpoint])"
   ]
  },
  {
   "cell_type": "markdown",
   "metadata": {},
   "source": [
    "A very helpful feature of neural networks is the ability to visualize when the model is about to introduce more variance in the error. The cell above shows the model begins to overfit around the fourth epoch when the accuracy jumps from 86 % to 92 % but validation accuracy decreases from 77% to 76%. "
   ]
  },
  {
   "cell_type": "code",
   "execution_count": 21,
   "metadata": {},
   "outputs": [
    {
     "data": {
      "image/png": "[encoded data removed]",
      "text/plain": [
       "<Figure size 432x288 with 1 Axes>"
      ]
     },
     "metadata": {
      "needs_background": "light"
     },
     "output_type": "display_data"
    }
   ],
   "source": [
    "def plot_graphs(history, metric):\n",
    "    \"\"\"\n",
    "    Takes a model and associated metric and plots performance over the specified epochs\n",
    "    \"\"\"\n",
    "    plt.plot(history.history[metric])\n",
    "    plt.plot(history.history['val_'+ metric], '')\n",
    "    plt.xlabel(\"Epochs\")\n",
    "    plt.ylabel(metric)\n",
    "    plt.legend([metric, 'val_'+ metric])\n",
    "    plt.show()\n",
    "\n",
    "plot_graphs(history_lstm, 'accuracy')"
   ]
  },
  {
   "cell_type": "markdown",
   "metadata": {},
   "source": [
    "The plot is a clearer visualization of the model's progressive overfitting around the third epoch. "
   ]
  },
  {
   "cell_type": "code",
   "execution_count": 22,
   "metadata": {},
   "outputs": [
    {
     "data": {
      "image/png": "[encoded data removed]",
      "text/plain": [
       "<Figure size 432x288 with 1 Axes>"
      ]
     },
     "metadata": {
      "needs_background": "light"
     },
     "output_type": "display_data"
    }
   ],
   "source": [
    "plot_graphs(history_lstm, 'loss')"
   ]
  },
  {
   "cell_type": "markdown",
   "metadata": {},
   "source": [
    "The plot of the loss further confirms the model's overfitting. The validation loss curve's decrease is less starting from around the third epoch."
   ]
  },
  {
   "cell_type": "code",
   "execution_count": 23,
   "metadata": {},
   "outputs": [
    {
     "name": "stdout",
     "output_type": "stream",
     "text": [
      "52/52 [==============================] - 3s 64ms/step - loss: 0.6256 - accuracy: 0.7889 - auc: 0.8622\n",
      "[0.6256128549575806, 0.7888616919517517, 0.8621546030044556]\n"
     ]
    }
   ],
   "source": [
    "results = lstm_model.evaluate(x_test, y_test)\n",
    "print(results)"
   ]
  },
  {
   "cell_type": "markdown",
   "metadata": {},
   "source": [
    "This model's accuracy slightly outperforms the Bernoulli Naive Bayes classifier at 79% compared to 78%. The AUC in this neural networks clearly outstrips that of the Naive Bayes classifier suggesting that the neural network does a better job identifying true positives. "
   ]
  },
  {
   "cell_type": "code",
   "execution_count": 25,
   "metadata": {},
   "outputs": [
    {
     "data": {
      "image/png": "[encoded data removed]",
      "text/plain": [
       "<Figure size 432x288 with 1 Axes>"
      ]
     },
     "metadata": {
      "needs_background": "light"
     },
     "output_type": "display_data"
    }
   ],
   "source": [
    "plot_graphs(history_lstm, 'auc')"
   ]
  },
  {
   "cell_type": "markdown",
   "metadata": {},
   "source": [
    "# Conclusion "
   ]
  },
  {
   "cell_type": "markdown",
   "metadata": {},
   "source": [
    "During preprocessing, I discovered that my dataset had reviews in different languages including Spanish and Arabic and removing these resulted in a smaller corpus to train on. While the performance of our LSTM best model is decent, increased accuracy to distinguish positive sentiment can be achieved by training the model on more text. "
   ]
  }
 ],
 "metadata": {
  "kernelspec": {
   "display_name": "Python 3",
   "language": "python",
   "name": "python3"
  },
  "language_info": {
   "codemirror_mode": {
    "name": "ipython",
    "version": 3
   },
   "file_extension": ".py",
   "mimetype": "text/x-python",
   "name": "python",
   "nbconvert_exporter": "python",
   "pygments_lexer": "ipython3",
   "version": "3.7.3"
  }
 },
 "nbformat": 4,
 "nbformat_minor": 4
}
