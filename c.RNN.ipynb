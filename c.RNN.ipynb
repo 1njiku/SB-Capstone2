{
 "cells": [
  {
   "cell_type": "code",
   "execution_count": 1,
   "metadata": {},
   "outputs": [],
   "source": [
    "from __future__ import print_function\n",
    "%matplotlib inline\n",
    "\n",
    "import datetime\n",
    "\n",
    "import os\n",
    "\n",
    "import pandas as pd\n",
    "pd.set_option('display.width', 500)\n",
    "pd.set_option('display.max_columns', 100)\n",
    "pd.set_option('display.notebook_repr_html', True)\n",
    "\n",
    "import matplotlib.pyplot as plt\n",
    "import numpy as np\n",
    "import seaborn as sns\n",
    "import pickle\n",
    "\n",
    "import spacy\n",
    "import en_core_web_sm\n",
    "\n",
    "import tensorflow as tf\n",
    "from tensorflow.keras.preprocessing.text import Tokenizer\n",
    "from tensorflow.keras.optimizers import Adam\n",
    "from tensorflow.keras import layers\n",
    "from tensorflow.keras import losses\n",
    "from tensorflow.keras.preprocessing.sequence import pad_sequences\n",
    "from tensorflow.keras.callbacks import EarlyStopping\n",
    "from tensorflow.keras.regularizers import l2\n",
    "from tensorflow.keras import regularizers\n",
    "\n",
    "from sklearn.model_selection import train_test_split\n",
    "\n",
    "import re\n",
    "import string\n",
    "\n",
    "PROJ_ROOT = os.path.join(os.pardir, os.pardir)"
   ]
  },
  {
   "cell_type": "code",
   "execution_count": 2,
   "metadata": {},
   "outputs": [],
   "source": [
    "path = '/Users/teresiahkahura/Desktop/ds/SB-Capstone2/data/processed/reviews5.pkl'\n",
    "df = pd.read_pickle(path)\n",
    "\n",
    "assert df.shape == (3268, 2)"
   ]
  },
  {
   "cell_type": "markdown",
   "metadata": {},
   "source": [
    "# Preprocessing"
   ]
  },
  {
   "cell_type": "code",
   "execution_count": 3,
   "metadata": {
    "scrolled": true
   },
   "outputs": [],
   "source": [
    "nlp = en_core_web_sm.load()\n",
    "\n",
    "def lemmatize_text(text):\n",
    "    text = nlp(text)\n",
    "    text = ' '.join([word.lemma_ if word.lemma_ != '-PRON-' else word.text for word in text])\n",
    "    return text"
   ]
  },
  {
   "cell_type": "code",
   "execution_count": 4,
   "metadata": {},
   "outputs": [],
   "source": [
    "df['text'] = [lemmatize_text(sent) for sent in df['text']]"
   ]
  },
  {
   "cell_type": "code",
   "execution_count": 5,
   "metadata": {},
   "outputs": [
    {
     "data": {
      "text/plain": [
       "array([1, 1, 0, ..., 0, 0, 1])"
      ]
     },
     "execution_count": 5,
     "metadata": {},
     "output_type": "execute_result"
    }
   ],
   "source": [
    "x = df[\"text\"]\n",
    "y = df[\"label\"].values\n",
    "y"
   ]
  },
  {
   "cell_type": "code",
   "execution_count": 6,
   "metadata": {},
   "outputs": [],
   "source": [
    "tokenizer = Tokenizer(lower=True, filters='\\d*!\"#$%&()*+,-./:;<=>?@[\\\\]^_`{|}~\\t\\n', split = ' ')\n",
    "tokenizer.fit_on_texts(x)"
   ]
  },
  {
   "cell_type": "code",
   "execution_count": 7,
   "metadata": {},
   "outputs": [],
   "source": [
    "def get_sequence_of_tokens(corpus):\n",
    "    \n",
    "    \n",
    "    total_words = len(tokenizer.word_index) + 1\n",
    "    \n",
    "     \n",
    "    input_sequences = []\n",
    "    for line in corpus:\n",
    "        token_list = tokenizer.texts_to_sequences([line])[0]\n",
    "        input_sequences.append(token_list)\n",
    "    return input_sequences, total_words\n",
    "\n",
    "inp_sequences, total_words = get_sequence_of_tokens(x)"
   ]
  },
  {
   "cell_type": "code",
   "execution_count": 8,
   "metadata": {},
   "outputs": [],
   "source": [
    "def generate_padded_sequences(input_sequences):\n",
    "    max_sequence_len = max([len(x) for x in input_sequences])\n",
    "    input_sequences = np.array(pad_sequences(input_sequences, maxlen=max_sequence_len,))\n",
    "   \n",
    "    predictors = input_sequences[:,:-1]\n",
    "    return predictors, max_sequence_len\n",
    "\n",
    "predictors, max_sequence_len = generate_padded_sequences(inp_sequences)"
   ]
  },
  {
   "cell_type": "code",
   "execution_count": 9,
   "metadata": {},
   "outputs": [],
   "source": [
    "x_train, x_test, y_train, y_test = train_test_split(predictors, y, test_size=0.3, random_state=42)"
   ]
  },
  {
   "cell_type": "markdown",
   "metadata": {},
   "source": [
    "# Setting up RNN\n"
   ]
  },
  {
   "cell_type": "code",
   "execution_count": 10,
   "metadata": {},
   "outputs": [],
   "source": [
    "def build_model():\n",
    "    opt = Adam(lr=1e-4)\n",
    "    model = tf.keras.Sequential()\n",
    "    model.add(tf.keras.layers.Embedding(total_words, 64))\n",
    "    model.add(tf.keras.layers.Bidirectional(tf.keras.layers.SimpleRNN(32)))\n",
    "    model.add(tf.keras.layers.Dropout(0.1))\n",
    "    model.add(tf.keras.layers.Dense(1, activation='sigmoid'))\n",
    "    model.compile(loss='binary_crossentropy', optimizer=opt, metrics=['accuracy'])\n",
    "    \n",
    "    return model\n",
    "\n",
    "rnn_model = build_model()"
   ]
  },
  {
   "cell_type": "code",
   "execution_count": 11,
   "metadata": {},
   "outputs": [],
   "source": [
    "!rm -r /tmp/logs/"
   ]
  },
  {
   "cell_type": "code",
   "execution_count": 12,
   "metadata": {},
   "outputs": [],
   "source": [
    "logdir = os.path.join(\"/tmp/logs\", datetime.datetime.now().strftime(\"%Y%m%d-%H%M%S\"))\n",
    "tb_callback = tf.keras.callbacks.TensorBoard(logdir, histogram_freq=1)\n",
    "checkpoint = tf.keras.callbacks.ModelCheckpoint(filepath='/tmp/sentiment_analysis_rnn.hdf5', \n",
    "                                                  verbose = 1, \n",
    "                                                  save_best_only= True)"
   ]
  },
  {
   "cell_type": "code",
   "execution_count": 13,
   "metadata": {},
   "outputs": [
    {
     "name": "stdout",
     "output_type": "stream",
     "text": [
      "Epoch 1/10\n",
      " 1/65 [..............................] - ETA: 0s - loss: 0.6832 - accuracy: 0.5312WARNING:tensorflow:From /Library/Frameworks/Python.framework/Versions/3.7/lib/python3.7/site-packages/tensorflow/python/ops/summary_ops_v2.py:1277: stop (from tensorflow.python.eager.profiler) is deprecated and will be removed after 2020-07-01.\n",
      "Instructions for updating:\n",
      "use `tf.profiler.experimental.stop` instead.\n",
      " 2/65 [..............................] - ETA: 5s - loss: 0.6813 - accuracy: 0.5469WARNING:tensorflow:Callbacks method `on_train_batch_end` is slow compared to the batch time (batch time: 0.0657s vs `on_train_batch_end` time: 0.1200s). Check your callbacks.\n",
      "65/65 [==============================] - ETA: 0s - loss: 0.6886 - accuracy: 0.5423\n",
      "Epoch 00001: val_loss improved from inf to 0.69114, saving model to /tmp/sentiment_analysis_rnn.hdf5\n",
      "65/65 [==============================] - 5s 78ms/step - loss: 0.6886 - accuracy: 0.5423 - val_loss: 0.6911 - val_accuracy: 0.5240\n",
      "Epoch 2/10\n",
      "65/65 [==============================] - ETA: 0s - loss: 0.6582 - accuracy: 0.6429\n",
      "Epoch 00002: val_loss improved from 0.69114 to 0.68140, saving model to /tmp/sentiment_analysis_rnn.hdf5\n",
      "65/65 [==============================] - 5s 70ms/step - loss: 0.6582 - accuracy: 0.6429 - val_loss: 0.6814 - val_accuracy: 0.5939\n",
      "Epoch 3/10\n",
      "65/65 [==============================] - ETA: 0s - loss: 0.6150 - accuracy: 0.7225\n",
      "Epoch 00003: val_loss improved from 0.68140 to 0.63694, saving model to /tmp/sentiment_analysis_rnn.hdf5\n",
      "65/65 [==============================] - 5s 70ms/step - loss: 0.6150 - accuracy: 0.7225 - val_loss: 0.6369 - val_accuracy: 0.6900\n",
      "Epoch 4/10\n",
      "65/65 [==============================] - ETA: 0s - loss: 0.6234 - accuracy: 0.6832\n",
      "Epoch 00004: val_loss did not improve from 0.63694\n",
      "65/65 [==============================] - 5s 72ms/step - loss: 0.6234 - accuracy: 0.6832 - val_loss: 0.6756 - val_accuracy: 0.5633\n",
      "Epoch 5/10\n",
      "65/65 [==============================] - ETA: 0s - loss: 0.5679 - accuracy: 0.7741\n",
      "Epoch 00005: val_loss improved from 0.63694 to 0.61333, saving model to /tmp/sentiment_analysis_rnn.hdf5\n",
      "65/65 [==============================] - 5s 71ms/step - loss: 0.5679 - accuracy: 0.7741 - val_loss: 0.6133 - val_accuracy: 0.6900\n",
      "Epoch 6/10\n",
      "65/65 [==============================] - ETA: 0s - loss: 0.4951 - accuracy: 0.8076\n",
      "Epoch 00006: val_loss improved from 0.61333 to 0.58866, saving model to /tmp/sentiment_analysis_rnn.hdf5\n",
      "65/65 [==============================] - 4s 69ms/step - loss: 0.4951 - accuracy: 0.8076 - val_loss: 0.5887 - val_accuracy: 0.7118\n",
      "Epoch 7/10\n",
      "65/65 [==============================] - ETA: 0s - loss: 0.4188 - accuracy: 0.8703\n",
      "Epoch 00007: val_loss improved from 0.58866 to 0.57352, saving model to /tmp/sentiment_analysis_rnn.hdf5\n",
      "65/65 [==============================] - 5s 71ms/step - loss: 0.4188 - accuracy: 0.8703 - val_loss: 0.5735 - val_accuracy: 0.7249\n",
      "Epoch 8/10\n",
      "65/65 [==============================] - ETA: 0s - loss: 0.3545 - accuracy: 0.9116\n",
      "Epoch 00008: val_loss improved from 0.57352 to 0.56205, saving model to /tmp/sentiment_analysis_rnn.hdf5\n",
      "65/65 [==============================] - 5s 72ms/step - loss: 0.3545 - accuracy: 0.9116 - val_loss: 0.5620 - val_accuracy: 0.7205\n",
      "Epoch 9/10\n",
      "65/65 [==============================] - ETA: 0s - loss: 0.3003 - accuracy: 0.9300\n",
      "Epoch 00009: val_loss did not improve from 0.56205\n",
      "65/65 [==============================] - 5s 72ms/step - loss: 0.3003 - accuracy: 0.9300 - val_loss: 0.5679 - val_accuracy: 0.7467\n",
      "Epoch 10/10\n",
      "65/65 [==============================] - ETA: 0s - loss: 0.2600 - accuracy: 0.9407\n",
      "Epoch 00010: val_loss improved from 0.56205 to 0.54422, saving model to /tmp/sentiment_analysis_rnn.hdf5\n",
      "65/65 [==============================] - 5s 71ms/step - loss: 0.2600 - accuracy: 0.9407 - val_loss: 0.5442 - val_accuracy: 0.7686\n"
     ]
    }
   ],
   "source": [
    "es = EarlyStopping(monitor='val_loss', mode='min', patience=5)\n",
    "history_rnn = rnn_model.fit(x_train, y_train, epochs = 10, validation_split=0.1, \n",
    "                           callbacks = [tb_callback, checkpoint])"
   ]
  },
  {
   "cell_type": "code",
   "execution_count": 14,
   "metadata": {},
   "outputs": [
    {
     "data": {
      "image/png": "[encoded data removed]",
      "text/plain": [
       "<Figure size 432x288 with 1 Axes>"
      ]
     },
     "metadata": {
      "needs_background": "light"
     },
     "output_type": "display_data"
    }
   ],
   "source": [
    "def plot_graphs(history, metric):\n",
    "  plt.plot(history.history[metric])\n",
    "  plt.plot(history.history['val_'+ metric], '')\n",
    "  plt.xlabel(\"Epochs\")\n",
    "  plt.ylabel(metric)\n",
    "  plt.legend([metric, 'val_'+ metric])\n",
    "  plt.show()\n",
    "\n",
    "plot_graphs(history_rnn, 'accuracy')"
   ]
  },
  {
   "cell_type": "code",
   "execution_count": 15,
   "metadata": {},
   "outputs": [
    {
     "data": {
      "image/png": "[encoded data removed]",
      "text/plain": [
       "<Figure size 432x288 with 1 Axes>"
      ]
     },
     "metadata": {
      "needs_background": "light"
     },
     "output_type": "display_data"
    }
   ],
   "source": [
    "plot_graphs(history_rnn, 'loss')"
   ]
  },
  {
   "cell_type": "code",
   "execution_count": 16,
   "metadata": {},
   "outputs": [
    {
     "name": "stdout",
     "output_type": "stream",
     "text": [
      "31/31 [==============================] - 0s 13ms/step - loss: 0.5673 - accuracy: 0.7421\n",
      "[0.5673444867134094, 0.7420998811721802]\n"
     ]
    }
   ],
   "source": [
    "results = rnn_model.evaluate(x_test, y_test)\n",
    "print(results)"
   ]
  },
  {
   "cell_type": "code",
   "execution_count": null,
   "metadata": {},
   "outputs": [],
   "source": []
  }
 ],
 "metadata": {
  "kernelspec": {
   "display_name": "Python 3",
   "language": "python",
   "name": "python3"
  },
  "language_info": {
   "codemirror_mode": {
    "name": "ipython",
    "version": 3
   },
   "file_extension": ".py",
   "mimetype": "text/x-python",
   "name": "python",
   "nbconvert_exporter": "python",
   "pygments_lexer": "ipython3",
   "version": "3.7.3"
  }
 },
 "nbformat": 4,
 "nbformat_minor": 4
}
