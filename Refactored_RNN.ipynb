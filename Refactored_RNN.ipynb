{
 "cells": [
  {
   "cell_type": "code",
   "execution_count": 1,
   "metadata": {},
   "outputs": [
    {
     "name": "stdout",
     "output_type": "stream",
     "text": [
      "Teresiah Kahura 2020-08-08 14:02:51 \n",
      "\n",
      "CPython 3.7.3\n",
      "IPython 7.16.1\n",
      "\n",
      "numpy 1.18.5\n",
      "pandas 0.24.2\n",
      "matplotlib 3.0.3\n",
      "Git hash: 26f5332e6506f83cc12a9d8f7aadc88994e7ef23\n"
     ]
    }
   ],
   "source": [
    "%load_ext watermark\n",
    "%watermark -a \"Teresiah Kahura\" -d -t -v -p numpy,pandas,matplotlib -g"
   ]
  },
  {
   "cell_type": "code",
   "execution_count": 2,
   "metadata": {},
   "outputs": [],
   "source": [
    "from __future__ import print_function\n",
    "%matplotlib inline\n",
    "\n",
    "import datetime\n",
    "\n",
    "import os\n",
    "\n",
    "import pandas as pd\n",
    "pd.set_option('display.width', 500)\n",
    "pd.set_option('display.max_columns', 100)\n",
    "pd.set_option('display.notebook_repr_html', True)\n",
    "\n",
    "import matplotlib.pyplot as plt\n",
    "import numpy as np\n",
    "import seaborn as sns\n",
    "import pickle\n",
    "\n",
    "import tensorflow as tf\n",
    "from tensorflow.keras.preprocessing.text import Tokenizer\n",
    "from tensorflow.keras.optimizers import Adam\n",
    "from tensorflow.keras import layers\n",
    "from tensorflow.keras import losses\n",
    "from tensorflow.keras.preprocessing.sequence import pad_sequences\n",
    "from tensorflow.keras.callbacks import EarlyStopping\n",
    "from tensorflow.keras.regularizers import l2\n",
    "from tensorflow.keras import regularizers\n",
    "\n",
    "from sklearn.model_selection import train_test_split\n",
    "\n",
    "import re\n",
    "import string\n",
    "\n",
    "PROJ_ROOT = os.path.join(os.pardir, os.pardir)"
   ]
  },
  {
   "cell_type": "code",
   "execution_count": 3,
   "metadata": {},
   "outputs": [],
   "source": [
    "path = '/Users/teresiahkahura/Desktop/ds/SB-Capstone2/data/processed/reviews2.pkl'\n",
    "df = pd.read_pickle(path)\n",
    "\n",
    "assert df.shape == (3268, 2)\n"
   ]
  },
  {
   "cell_type": "code",
   "execution_count": 4,
   "metadata": {},
   "outputs": [
    {
     "data": {
      "text/html": [
       "<div>\n",
       "<style scoped>\n",
       "    .dataframe tbody tr th:only-of-type {\n",
       "        vertical-align: middle;\n",
       "    }\n",
       "\n",
       "    .dataframe tbody tr th {\n",
       "        vertical-align: top;\n",
       "    }\n",
       "\n",
       "    .dataframe thead th {\n",
       "        text-align: right;\n",
       "    }\n",
       "</style>\n",
       "<table border=\"1\" class=\"dataframe\">\n",
       "  <thead>\n",
       "    <tr style=\"text-align: right;\">\n",
       "      <th></th>\n",
       "      <th>text</th>\n",
       "      <th>label</th>\n",
       "    </tr>\n",
       "  </thead>\n",
       "  <tbody>\n",
       "    <tr>\n",
       "      <th>0</th>\n",
       "      <td>Fascinating view into the past: This book is f...</td>\n",
       "      <td>1</td>\n",
       "    </tr>\n",
       "    <tr>\n",
       "      <th>1</th>\n",
       "      <td>A very amusing look at the past: I was hoping ...</td>\n",
       "      <td>1</td>\n",
       "    </tr>\n",
       "    <tr>\n",
       "      <th>2</th>\n",
       "      <td>Didn't like...: I didn't like this version of ...</td>\n",
       "      <td>0</td>\n",
       "    </tr>\n",
       "    <tr>\n",
       "      <th>3</th>\n",
       "      <td>Two Divas,that should shut up!: Here are two s...</td>\n",
       "      <td>0</td>\n",
       "    </tr>\n",
       "    <tr>\n",
       "      <th>4</th>\n",
       "      <td>Movie Version is Much better!: The movie versi...</td>\n",
       "      <td>0</td>\n",
       "    </tr>\n",
       "  </tbody>\n",
       "</table>\n",
       "</div>"
      ],
      "text/plain": [
       "                                                text  label\n",
       "0  Fascinating view into the past: This book is f...      1\n",
       "1  A very amusing look at the past: I was hoping ...      1\n",
       "2  Didn't like...: I didn't like this version of ...      0\n",
       "3  Two Divas,that should shut up!: Here are two s...      0\n",
       "4  Movie Version is Much better!: The movie versi...      0"
      ]
     },
     "execution_count": 4,
     "metadata": {},
     "output_type": "execute_result"
    }
   ],
   "source": [
    "df.head()"
   ]
  },
  {
   "cell_type": "markdown",
   "metadata": {},
   "source": [
    "# Preprocessing"
   ]
  },
  {
   "cell_type": "code",
   "execution_count": 5,
   "metadata": {},
   "outputs": [],
   "source": [
    "x = df[\"text\"]\n",
    "y = df[\"label\"].values"
   ]
  },
  {
   "cell_type": "code",
   "execution_count": 6,
   "metadata": {},
   "outputs": [],
   "source": [
    "tokenizer = Tokenizer(lower=True, filters='\\d*!\"#$%&()*+,-./:;<=>?@[\\\\]^_`{|}~\\t\\n', split = ' ')\n",
    "tokenizer.fit_on_texts(x)"
   ]
  },
  {
   "cell_type": "code",
   "execution_count": 7,
   "metadata": {},
   "outputs": [],
   "source": [
    "def get_sequence_of_tokens(corpus):\n",
    "    \n",
    "    \n",
    "    total_words = len(tokenizer.word_index) + 1\n",
    "    \n",
    "     \n",
    "    input_sequences = []\n",
    "    for line in corpus:\n",
    "        token_list = tokenizer.texts_to_sequences([line])[0]\n",
    "        input_sequences.append(token_list)\n",
    "    return input_sequences, total_words\n",
    "\n",
    "inp_sequences, total_words = get_sequence_of_tokens(x)"
   ]
  },
  {
   "cell_type": "code",
   "execution_count": 8,
   "metadata": {},
   "outputs": [],
   "source": [
    "def generate_padded_sequences(input_sequences):\n",
    "    max_sequence_len = max([len(x) for x in input_sequences])\n",
    "    input_sequences = np.array(pad_sequences(input_sequences, maxlen=max_sequence_len,))\n",
    "   \n",
    "    predictors = input_sequences[:,:-1]\n",
    "    return predictors, max_sequence_len\n",
    "\n",
    "predictors, max_sequence_len = generate_padded_sequences(inp_sequences)"
   ]
  },
  {
   "cell_type": "code",
   "execution_count": 9,
   "metadata": {},
   "outputs": [],
   "source": [
    "x_train, x_test, y_train, y_test = train_test_split(predictors, y, test_size=0.30, random_state=42)"
   ]
  },
  {
   "cell_type": "markdown",
   "metadata": {},
   "source": [
    "# Setting up RNN"
   ]
  },
  {
   "cell_type": "code",
   "execution_count": 10,
   "metadata": {},
   "outputs": [],
   "source": [
    "def build_model():\n",
    "  opt = Adam(lr=0.01)\n",
    "  model = tf.keras.Sequential()\n",
    "  model.add(tf.keras.layers.Embedding(total_words, 128))\n",
    "  model.add(tf.keras.layers.Bidirectional(tf.keras.layers.SimpleRNN(128)))\n",
    "  model.add(tf.keras.layers.Dropout(0.2))\n",
    "  model.add(tf.keras.layers.Dense(1, activation='sigmoid'))\n",
    "  model.compile(loss='binary_crossentropy', optimizer=opt, metrics=['accuracy'])\n",
    "  \n",
    "  return model\n",
    "\n",
    "rnn_model = build_model()"
   ]
  },
  {
   "cell_type": "code",
   "execution_count": 11,
   "metadata": {},
   "outputs": [],
   "source": [
    "!rm -r /tmp/logs/"
   ]
  },
  {
   "cell_type": "code",
   "execution_count": 12,
   "metadata": {},
   "outputs": [],
   "source": [
    "logdir = os.path.join(\"/tmp/logs\", datetime.datetime.now().strftime(\"%Y%m%d-%H%M%S\"))\n",
    "tb_callback = tf.keras.callbacks.TensorBoard(logdir, histogram_freq=1)\n",
    "checkpoint = tf.keras.callbacks.ModelCheckpoint(filepath='/tmp/sentiment_analysis_rnn.hdf5', \n",
    "                                                  verbose = 1, \n",
    "                                                  save_best_only= True)"
   ]
  },
  {
   "cell_type": "code",
   "execution_count": 13,
   "metadata": {},
   "outputs": [
    {
     "name": "stdout",
     "output_type": "stream",
     "text": [
      "Epoch 1/10\n",
      " 1/65 [..............................] - ETA: 0s - loss: 0.6777 - accuracy: 0.6250WARNING:tensorflow:From /Library/Frameworks/Python.framework/Versions/3.7/lib/python3.7/site-packages/tensorflow/python/ops/summary_ops_v2.py:1277: stop (from tensorflow.python.eager.profiler) is deprecated and will be removed after 2020-07-01.\n",
      "Instructions for updating:\n",
      "use `tf.profiler.experimental.stop` instead.\n",
      "65/65 [==============================] - ETA: 0s - loss: 0.8403 - accuracy: 0.5019\n",
      "Epoch 00001: val_loss improved from inf to 0.72197, saving model to /tmp/sentiment_analysis_rnn.hdf5\n",
      "65/65 [==============================] - 9s 142ms/step - loss: 0.8403 - accuracy: 0.5019 - val_loss: 0.7220 - val_accuracy: 0.4585\n",
      "Epoch 2/10\n",
      "65/65 [==============================] - ETA: 0s - loss: 0.8062 - accuracy: 0.5185\n",
      "Epoch 00002: val_loss improved from 0.72197 to 0.70052, saving model to /tmp/sentiment_analysis_rnn.hdf5\n",
      "65/65 [==============================] - 9s 132ms/step - loss: 0.8062 - accuracy: 0.5185 - val_loss: 0.7005 - val_accuracy: 0.5415\n",
      "Epoch 3/10\n",
      "65/65 [==============================] - ETA: 0s - loss: 0.5793 - accuracy: 0.7031\n",
      "Epoch 00003: val_loss did not improve from 0.70052\n",
      "65/65 [==============================] - 9s 144ms/step - loss: 0.5793 - accuracy: 0.7031 - val_loss: 0.9368 - val_accuracy: 0.5983\n",
      "Epoch 4/10\n",
      "65/65 [==============================] - ETA: 0s - loss: 0.4874 - accuracy: 0.8003\n",
      "Epoch 00004: val_loss did not improve from 0.70052\n",
      "65/65 [==============================] - 9s 135ms/step - loss: 0.4874 - accuracy: 0.8003 - val_loss: 1.1263 - val_accuracy: 0.5328\n",
      "Epoch 5/10\n",
      "65/65 [==============================] - ETA: 0s - loss: 0.7363 - accuracy: 0.5865\n",
      "Epoch 00005: val_loss did not improve from 0.70052\n",
      "65/65 [==============================] - 9s 136ms/step - loss: 0.7363 - accuracy: 0.5865 - val_loss: 0.8279 - val_accuracy: 0.5197\n",
      "Epoch 6/10\n",
      "65/65 [==============================] - ETA: 0s - loss: 0.7088 - accuracy: 0.6147\n",
      "Epoch 00006: val_loss did not improve from 0.70052\n",
      "65/65 [==============================] - 8s 125ms/step - loss: 0.7088 - accuracy: 0.6147 - val_loss: 0.7972 - val_accuracy: 0.5066\n",
      "Epoch 7/10\n",
      "65/65 [==============================] - ETA: 0s - loss: 0.6707 - accuracy: 0.6118\n",
      "Epoch 00007: val_loss did not improve from 0.70052\n",
      "65/65 [==============================] - 8s 128ms/step - loss: 0.6707 - accuracy: 0.6118 - val_loss: 0.7184 - val_accuracy: 0.5764\n",
      "Epoch 8/10\n",
      "65/65 [==============================] - ETA: 0s - loss: 0.6434 - accuracy: 0.6579\n",
      "Epoch 00008: val_loss did not improve from 0.70052\n",
      "65/65 [==============================] - 10s 155ms/step - loss: 0.6434 - accuracy: 0.6579 - val_loss: 0.8162 - val_accuracy: 0.5109\n",
      "Epoch 9/10\n",
      "65/65 [==============================] - ETA: 0s - loss: 0.6340 - accuracy: 0.6492\n",
      "Epoch 00009: val_loss did not improve from 0.70052\n",
      "65/65 [==============================] - 9s 133ms/step - loss: 0.6340 - accuracy: 0.6492 - val_loss: 0.7369 - val_accuracy: 0.5240\n",
      "Epoch 10/10\n",
      "65/65 [==============================] - ETA: 0s - loss: 0.6018 - accuracy: 0.6832\n",
      "Epoch 00010: val_loss did not improve from 0.70052\n",
      "65/65 [==============================] - 9s 139ms/step - loss: 0.6018 - accuracy: 0.6832 - val_loss: 0.7465 - val_accuracy: 0.5284\n"
     ]
    }
   ],
   "source": [
    "es = EarlyStopping(monitor='val_loss', mode='min', patience=5)\n",
    "history_rnn = rnn_model.fit(x_train, y_train, epochs = 10, validation_split=0.1, \n",
    "                              callbacks = [tb_callback, checkpoint])"
   ]
  },
  {
   "cell_type": "code",
   "execution_count": 14,
   "metadata": {},
   "outputs": [
    {
     "data": {
      "image/png": "[encoded data removed]",
      "text/plain": [
       "<Figure size 432x288 with 1 Axes>"
      ]
     },
     "metadata": {
      "needs_background": "light"
     },
     "output_type": "display_data"
    }
   ],
   "source": [
    "def plot_graphs(history, metric):\n",
    "  plt.plot(history.history[metric])\n",
    "  plt.plot(history.history['val_'+ metric], '')\n",
    "  plt.xlabel(\"Epochs\")\n",
    "  plt.ylabel(metric)\n",
    "  plt.legend([metric, 'val_'+ metric])\n",
    "  plt.show()\n",
    "\n",
    "plot_graphs(history_rnn, 'accuracy')"
   ]
  },
  {
   "cell_type": "code",
   "execution_count": 15,
   "metadata": {},
   "outputs": [
    {
     "data": {
      "image/png": "[encoded data removed]",
      "text/plain": [
       "<Figure size 432x288 with 1 Axes>"
      ]
     },
     "metadata": {
      "needs_background": "light"
     },
     "output_type": "display_data"
    }
   ],
   "source": [
    "plot_graphs(history_rnn, 'loss')"
   ]
  },
  {
   "cell_type": "code",
   "execution_count": 16,
   "metadata": {},
   "outputs": [
    {
     "name": "stdout",
     "output_type": "stream",
     "text": [
      "31/31 [==============================] - 1s 24ms/step - loss: 0.7586 - accuracy: 0.5698\n",
      "[0.7586163878440857, 0.5698267221450806]\n"
     ]
    }
   ],
   "source": [
    "results = rnn_model.evaluate(x_test, y_test)\n",
    "print(results)"
   ]
  }
 ],
 "metadata": {
  "kernelspec": {
   "display_name": "Python 3",
   "language": "python",
   "name": "python3"
  },
  "language_info": {
   "codemirror_mode": {
    "name": "ipython",
    "version": 3
   },
   "file_extension": ".py",
   "mimetype": "text/x-python",
   "name": "python",
   "nbconvert_exporter": "python",
   "pygments_lexer": "ipython3",
   "version": "3.7.3"
  }
 },
 "nbformat": 4,
 "nbformat_minor": 4
}
