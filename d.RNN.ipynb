{
 "cells": [
  {
   "cell_type": "markdown",
   "metadata": {},
   "source": [
    "# Problem Statement"
   ]
  },
  {
   "cell_type": "markdown",
   "metadata": {},
   "source": [
    "Much work on sentiment analysis has been done on short-form text data such as those derived from micro-blogging social media sites. Because of the succinct nature of these social media posts, it is perhaps easier to glean points of view than from longer pieces of text.\n",
    "I would therefore like to perform sentiment parsing of long-form text in the form of book reviews."
   ]
  },
  {
   "cell_type": "markdown",
   "metadata": {},
   "source": [
    "I will use book reviews scraped from various websites including Goodreads stored on Kaggle as CSV files. The goal is to use different machine learning models to parse sentiment (either positive or negative) from each review. For this supervised classification problem, I will compare the performance of a Long Short Term Memory neural network (notebook c.) and Recurrent Neural Network (this notebook) to a Naive Bayes model (notebook b.)"
   ]
  },
  {
   "cell_type": "code",
   "execution_count": 1,
   "metadata": {},
   "outputs": [],
   "source": [
    "from __future__ import print_function\n",
    "%matplotlib inline\n",
    "\n",
    "import datetime\n",
    "\n",
    "import os\n",
    "\n",
    "import pandas as pd\n",
    "pd.set_option('display.width', 500)\n",
    "pd.set_option('display.max_columns', 100)\n",
    "pd.set_option('display.notebook_repr_html', True)\n",
    "\n",
    "import matplotlib.pyplot as plt\n",
    "import numpy as np\n",
    "import seaborn as sns\n",
    "import pickle\n",
    "\n",
    "import spacy\n",
    "import en_core_web_sm\n",
    "\n",
    "import tensorflow as tf\n",
    "from tensorflow.keras.preprocessing.text import Tokenizer\n",
    "from tensorflow.keras.optimizers import Adam\n",
    "from tensorflow.keras import layers\n",
    "from tensorflow.keras import losses\n",
    "from tensorflow.keras.preprocessing.sequence import pad_sequences\n",
    "from tensorflow.keras.callbacks import EarlyStopping\n",
    "from tensorflow.keras.regularizers import l2\n",
    "from tensorflow.keras import regularizers\n",
    "\n",
    "from sklearn.model_selection import train_test_split\n",
    "\n",
    "import re\n",
    "import string\n",
    "\n",
    "PROJ_ROOT = os.path.join(os.pardir, os.pardir)"
   ]
  },
  {
   "cell_type": "code",
   "execution_count": 2,
   "metadata": {},
   "outputs": [],
   "source": [
    "path = '/Users/teresiahkahura/Desktop/ds/SB-Capstone2/data/processed/reviews5.pkl'\n",
    "df = pd.read_pickle(path)\n",
    "\n",
    "assert df.shape == (3268, 2)"
   ]
  },
  {
   "cell_type": "markdown",
   "metadata": {},
   "source": [
    "# Preprocessing"
   ]
  },
  {
   "cell_type": "markdown",
   "metadata": {},
   "source": [
    "I followed the same steps outlined in notebook c preprocessing the data in preparation for the LSTM neural network."
   ]
  },
  {
   "cell_type": "code",
   "execution_count": 3,
   "metadata": {
    "scrolled": true
   },
   "outputs": [],
   "source": [
    "# Using spacy to tokenize and lemmatize not including pronouns\n",
    "nlp = en_core_web_sm.load()\n",
    "\n",
    "def lemmatize_text(text):\n",
    "    \"\"\"\n",
    "    Takes a corpus of text and tokenizes it in addition to lemmatizing\n",
    "    \"\"\"\n",
    "    text = nlp(text)\n",
    "    text = ' '.join([word.lemma_ if word.lemma_ != '-PRON-' else word.text for word in text])\n",
    "    return text"
   ]
  },
  {
   "cell_type": "code",
   "execution_count": 4,
   "metadata": {},
   "outputs": [],
   "source": [
    "df['text'] = [lemmatize_text(sent) for sent in df['text']]"
   ]
  },
  {
   "cell_type": "code",
   "execution_count": 5,
   "metadata": {},
   "outputs": [
    {
     "data": {
      "text/plain": [
       "array([1, 1, 0, ..., 0, 0, 1])"
      ]
     },
     "execution_count": 5,
     "metadata": {},
     "output_type": "execute_result"
    }
   ],
   "source": [
    "#converting the label column to an array in preparation to feed into neural network\n",
    "x = df[\"text\"]\n",
    "y = df[\"label\"].values\n",
    "y"
   ]
  },
  {
   "cell_type": "code",
   "execution_count": 6,
   "metadata": {},
   "outputs": [],
   "source": [
    "#using Tensorflow's tokenizer to filter out special characters and digits\n",
    "tokenizer = Tokenizer(lower=True, filters='\\d*!\"#$%&()*+,-./:;<=>?@[\\\\]^_`{|}~\\t\\n', split = ' ')\n",
    "tokenizer.fit_on_texts(x)"
   ]
  },
  {
   "cell_type": "code",
   "execution_count": 7,
   "metadata": {},
   "outputs": [],
   "source": [
    "def get_sequence_of_tokens(corpus):\n",
    "    \"\"\"\n",
    "    Takes a corpus of text as argument and returns its input size which will be used in creating the \n",
    "    neural network first layer.\n",
    "    Also returns a vector representation of the text. \n",
    "    \"\"\"\n",
    "    #getting the input size to encode in the neural networks first layer\n",
    "    total_words = len(tokenizer.word_index) + 1\n",
    "    \n",
    "    #converts texts into vector space \n",
    "    input_sequences = []\n",
    "    for line in corpus:\n",
    "        token_list = tokenizer.texts_to_sequences([line])[0]\n",
    "        input_sequences.append(token_list)\n",
    "    return input_sequences, total_words\n",
    "\n",
    "inp_sequences, total_words = get_sequence_of_tokens(x)"
   ]
  },
  {
   "cell_type": "code",
   "execution_count": 8,
   "metadata": {},
   "outputs": [],
   "source": [
    "def generate_padded_sequences(input_sequences):\n",
    "    \"\"\"\n",
    "    Takes vectorized representation of text as argument and pads sequences that are smaller \n",
    "    to the size of the longest sequence length. \n",
    "    \"\"\"\n",
    "    max_sequence_len = max([len(x) for x in input_sequences])\n",
    "    input_sequences = np.array(pad_sequences(input_sequences, maxlen=max_sequence_len,))\n",
    "   \n",
    "    predictors = input_sequences[:,:-1]\n",
    "    return predictors, max_sequence_len\n",
    "\n",
    "predictors, max_sequence_len = generate_padded_sequences(inp_sequences)"
   ]
  },
  {
   "cell_type": "code",
   "execution_count": 9,
   "metadata": {},
   "outputs": [],
   "source": [
    "# splits the vectorized representations of text and labels into test and training sizes\n",
    "x_train, x_test, y_train, y_test = train_test_split(predictors, y, test_size=0.5, random_state=42)"
   ]
  },
  {
   "cell_type": "markdown",
   "metadata": {},
   "source": [
    "Similar to the LSTM neural network, the simple RNN performs best with an even split between the test and training set."
   ]
  },
  {
   "cell_type": "markdown",
   "metadata": {},
   "source": [
    "# Setting up RNN\n"
   ]
  },
  {
   "cell_type": "code",
   "execution_count": 10,
   "metadata": {},
   "outputs": [],
   "source": [
    "def build_model():\n",
    "    \"\"\"\n",
    "    Builds layers of neural network.\n",
    "    \"\"\"\n",
    "    opt = Adam(lr=1e-4)\n",
    "    model = tf.keras.Sequential()\n",
    "    #establishes first embedding layer with the shape of the total_words variable and a batch size of 128\n",
    "    model.add(tf.keras.layers.Embedding(total_words, 128))\n",
    "    #The next layer is bidirectional RNN\n",
    "    model.add(tf.keras.layers.Bidirectional(tf.keras.layers.SimpleRNN(32)))\n",
    "    model.add(tf.keras.layers.Dropout(0.1))\n",
    "    #The last layer has sigmoid activation function to convert predictions to 0 - 1 format \n",
    "    model.add(tf.keras.layers.Dense(1, activation='sigmoid'))\n",
    "    \n",
    "    model.compile(loss='binary_crossentropy', optimizer=opt, metrics=['accuracy', tf.keras.metrics.AUC()])\n",
    "    \n",
    "    return model\n",
    "\n",
    "rnn_model = build_model()"
   ]
  },
  {
   "cell_type": "code",
   "execution_count": 11,
   "metadata": {},
   "outputs": [],
   "source": [
    "#removes previous logs \n",
    "!rm -r /tmp/logs/"
   ]
  },
  {
   "cell_type": "code",
   "execution_count": 12,
   "metadata": {},
   "outputs": [],
   "source": [
    "#saves the best performing model onto disk\n",
    "logdir = os.path.join(\"/tmp/logs\", datetime.datetime.now().strftime(\"%Y%m%d-%H%M%S\"))\n",
    "tb_callback = tf.keras.callbacks.TensorBoard(logdir, histogram_freq=1)\n",
    "checkpoint = tf.keras.callbacks.ModelCheckpoint(filepath='/tmp/sentiment_analysis_rnn.hdf5', \n",
    "                                                  verbose = 1, \n",
    "                                                  save_best_only= True)"
   ]
  },
  {
   "cell_type": "code",
   "execution_count": 13,
   "metadata": {},
   "outputs": [
    {
     "name": "stdout",
     "output_type": "stream",
     "text": [
      "Epoch 1/10\n",
      " 1/46 [..............................] - ETA: 0s - loss: 0.7083 - accuracy: 0.5625 - auc: 0.4107WARNING:tensorflow:From /Library/Frameworks/Python.framework/Versions/3.7/lib/python3.7/site-packages/tensorflow/python/ops/summary_ops_v2.py:1277: stop (from tensorflow.python.eager.profiler) is deprecated and will be removed after 2020-07-01.\n",
      "Instructions for updating:\n",
      "use `tf.profiler.experimental.stop` instead.\n",
      " 2/46 [>.............................] - ETA: 4s - loss: 0.6865 - accuracy: 0.5781 - auc: 0.5095WARNING:tensorflow:Callbacks method `on_train_batch_end` is slow compared to the batch time (batch time: 0.0822s vs `on_train_batch_end` time: 0.1251s). Check your callbacks.\n",
      "46/46 [==============================] - ETA: 0s - loss: 0.7024 - accuracy: 0.4986 - auc: 0.4936\n",
      "Epoch 00001: val_loss improved from inf to 0.69459, saving model to /tmp/sentiment_analysis_rnn.hdf5\n",
      "46/46 [==============================] - 4s 97ms/step - loss: 0.7024 - accuracy: 0.4986 - auc: 0.4936 - val_loss: 0.6946 - val_accuracy: 0.4817 - val_auc: 0.5173\n",
      "Epoch 2/10\n",
      "46/46 [==============================] - ETA: 0s - loss: 0.6735 - accuracy: 0.5918 - auc: 0.6357\n",
      "Epoch 00002: val_loss did not improve from 0.69459\n",
      "46/46 [==============================] - 4s 82ms/step - loss: 0.6735 - accuracy: 0.5918 - auc: 0.6357 - val_loss: 0.6950 - val_accuracy: 0.5244 - val_auc: 0.5369\n",
      "Epoch 3/10\n",
      "46/46 [==============================] - ETA: 0s - loss: 0.6367 - accuracy: 0.6673 - auc: 0.7367\n",
      "Epoch 00003: val_loss improved from 0.69459 to 0.67645, saving model to /tmp/sentiment_analysis_rnn.hdf5\n",
      "46/46 [==============================] - 4s 81ms/step - loss: 0.6367 - accuracy: 0.6673 - auc: 0.7367 - val_loss: 0.6764 - val_accuracy: 0.5549 - val_auc: 0.5967\n",
      "Epoch 4/10\n",
      "46/46 [==============================] - ETA: 0s - loss: 0.5742 - accuracy: 0.7626 - auc: 0.8599\n",
      "Epoch 00004: val_loss improved from 0.67645 to 0.66656, saving model to /tmp/sentiment_analysis_rnn.hdf5\n",
      "46/46 [==============================] - 4s 95ms/step - loss: 0.5742 - accuracy: 0.7626 - auc: 0.8599 - val_loss: 0.6666 - val_accuracy: 0.6280 - val_auc: 0.6324\n",
      "Epoch 5/10\n",
      "46/46 [==============================] - ETA: 0s - loss: 0.4884 - accuracy: 0.8585 - auc: 0.9337\n",
      "Epoch 00005: val_loss did not improve from 0.66656\n",
      "46/46 [==============================] - 4s 88ms/step - loss: 0.4884 - accuracy: 0.8585 - auc: 0.9337 - val_loss: 0.6729 - val_accuracy: 0.5610 - val_auc: 0.6118\n",
      "Epoch 6/10\n",
      "46/46 [==============================] - ETA: 0s - loss: 0.4117 - accuracy: 0.9014 - auc: 0.9656\n",
      "Epoch 00006: val_loss improved from 0.66656 to 0.65981, saving model to /tmp/sentiment_analysis_rnn.hdf5\n",
      "46/46 [==============================] - 4s 94ms/step - loss: 0.4117 - accuracy: 0.9014 - auc: 0.9656 - val_loss: 0.6598 - val_accuracy: 0.6098 - val_auc: 0.6429\n",
      "Epoch 7/10\n",
      "46/46 [==============================] - ETA: 0s - loss: 0.3281 - accuracy: 0.9442 - auc: 0.9884\n",
      "Epoch 00007: val_loss did not improve from 0.65981\n",
      "46/46 [==============================] - 4s 96ms/step - loss: 0.3281 - accuracy: 0.9442 - auc: 0.9884 - val_loss: 0.6621 - val_accuracy: 0.6280 - val_auc: 0.6540\n",
      "Epoch 8/10\n",
      "46/46 [==============================] - ETA: 0s - loss: 0.2656 - accuracy: 0.9565 - auc: 0.9917\n",
      "Epoch 00008: val_loss did not improve from 0.65981\n",
      "46/46 [==============================] - 5s 107ms/step - loss: 0.2656 - accuracy: 0.9565 - auc: 0.9917 - val_loss: 0.6691 - val_accuracy: 0.6159 - val_auc: 0.6623\n",
      "Epoch 9/10\n",
      "46/46 [==============================] - ETA: 0s - loss: 0.2115 - accuracy: 0.9694 - auc: 0.9968\n",
      "Epoch 00009: val_loss improved from 0.65981 to 0.65269, saving model to /tmp/sentiment_analysis_rnn.hdf5\n",
      "46/46 [==============================] - 4s 95ms/step - loss: 0.2115 - accuracy: 0.9694 - auc: 0.9968 - val_loss: 0.6527 - val_accuracy: 0.6220 - val_auc: 0.6820\n",
      "Epoch 10/10\n",
      "46/46 [==============================] - ETA: 0s - loss: 0.1707 - accuracy: 0.9830 - auc: 0.9987\n",
      "Epoch 00010: val_loss improved from 0.65269 to 0.64659, saving model to /tmp/sentiment_analysis_rnn.hdf5\n",
      "46/46 [==============================] - 5s 99ms/step - loss: 0.1707 - accuracy: 0.9830 - auc: 0.9987 - val_loss: 0.6466 - val_accuracy: 0.6585 - val_auc: 0.6994\n"
     ]
    }
   ],
   "source": [
    "es = EarlyStopping(monitor='val_loss', mode='min', patience=5)\n",
    "history_rnn = rnn_model.fit(x_train, y_train, epochs = 10, validation_split=0.1, \n",
    "                           callbacks = [tb_callback, checkpoint])"
   ]
  },
  {
   "cell_type": "markdown",
   "metadata": {},
   "source": [
    "The simple RNN does not perform very well on this data set with fluctuating validation accuracy scores around the 5th and 8th epoch."
   ]
  },
  {
   "cell_type": "code",
   "execution_count": 14,
   "metadata": {},
   "outputs": [
    {
     "data": {
      "image/png": "[encoded data removed]",
      "text/plain": [
       "<Figure size 432x288 with 1 Axes>"
      ]
     },
     "metadata": {
      "needs_background": "light"
     },
     "output_type": "display_data"
    }
   ],
   "source": [
    "def plot_graphs(history, metric):\n",
    "    \"\"\"\n",
    "    Takes a model and associated metric and plots performance over the specified epochs\n",
    "    \"\"\"\n",
    "    plt.plot(history.history[metric])\n",
    "    plt.plot(history.history['val_'+ metric], '')\n",
    "    plt.xlabel(\"Epochs\")\n",
    "    plt.ylabel(metric)\n",
    "    plt.legend([metric, 'val_'+ metric])\n",
    "    plt.show()\n",
    "\n",
    "plot_graphs(history_rnn, 'accuracy')"
   ]
  },
  {
   "cell_type": "code",
   "execution_count": 15,
   "metadata": {},
   "outputs": [
    {
     "data": {
      "image/png": "[encoded data removed]",
      "text/plain": [
       "<Figure size 432x288 with 1 Axes>"
      ]
     },
     "metadata": {
      "needs_background": "light"
     },
     "output_type": "display_data"
    }
   ],
   "source": [
    "plot_graphs(history_rnn, 'loss')"
   ]
  },
  {
   "cell_type": "code",
   "execution_count": 16,
   "metadata": {},
   "outputs": [
    {
     "name": "stdout",
     "output_type": "stream",
     "text": [
      "52/52 [==============================] - 1s 18ms/step - loss: 0.7308 - accuracy: 0.5741 - auc: 0.6186\n",
      "[0.7307701706886292, 0.5740513801574707, 0.6185731887817383]\n"
     ]
    }
   ],
   "source": [
    "results = rnn_model.evaluate(x_test, y_test)\n",
    "print(results)"
   ]
  },
  {
   "cell_type": "markdown",
   "metadata": {},
   "source": [
    "This model is the poorest performing out of the three tried out so far on both accuracy and auc. The layers of this model differ from the LSTM model in the absence of regularization layer which might diminish the model's ability to learn on sparse data."
   ]
  },
  {
   "cell_type": "code",
   "execution_count": 17,
   "metadata": {},
   "outputs": [
    {
     "data": {
      "image/png": "[encoded data removed]",
      "text/plain": [
       "<Figure size 432x288 with 1 Axes>"
      ]
     },
     "metadata": {
      "needs_background": "light"
     },
     "output_type": "display_data"
    }
   ],
   "source": [
    "plot_graphs(history_rnn, 'auc')"
   ]
  }
 ],
 "metadata": {
  "kernelspec": {
   "display_name": "Python 3",
   "language": "python",
   "name": "python3"
  },
  "language_info": {
   "codemirror_mode": {
    "name": "ipython",
    "version": 3
   },
   "file_extension": ".py",
   "mimetype": "text/x-python",
   "name": "python",
   "nbconvert_exporter": "python",
   "pygments_lexer": "ipython3",
   "version": "3.7.3"
  }
 },
 "nbformat": 4,
 "nbformat_minor": 4
}
